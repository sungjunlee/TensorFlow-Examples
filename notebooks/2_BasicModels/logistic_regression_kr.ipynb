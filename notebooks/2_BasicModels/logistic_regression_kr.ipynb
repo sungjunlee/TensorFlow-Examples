{
 "cells": [
  {
   "cell_type": "code",
   "execution_count": 1,
   "metadata": {
    "collapsed": true
   },
   "outputs": [],
   "source": [
    "# A logistic regression learning algorithm example using TensorFlow library.\n",
    "# This example is using the MNIST database of handwritten digits \n",
    "# (http://yann.lecun.com/exdb/mnist/)\n",
    "\n",
    "# Author: Aymeric Damien\n",
    "# Project: https://github.com/aymericdamien/TensorFlow-Examples/"
   ]
  },
  {
   "cell_type": "markdown",
   "metadata": {},
   "source": [
    "이 예시는 실제 분류예시인 MNIST 데이터에 대해 분류하는 과정을 보여줍니다.\n",
    "MNIST는 tensorflow 자체에 기본예시로 간단한 명령어를 통해 인터넷에서 다운받을 수 있게 되어 있습니다."
   ]
  },
  {
   "cell_type": "code",
   "execution_count": 2,
   "metadata": {
    "collapsed": false
   },
   "outputs": [
    {
     "name": "stdout",
     "output_type": "stream",
     "text": [
      "Successfully downloaded train-images-idx3-ubyte.gz 9912422 bytes.\n",
      "Extracting MNIST_data/train-images-idx3-ubyte.gz\n",
      "Successfully downloaded train-labels-idx1-ubyte.gz 28881 bytes.\n",
      "Extracting MNIST_data/train-labels-idx1-ubyte.gz\n",
      "Successfully downloaded t10k-images-idx3-ubyte.gz 1648877 bytes.\n",
      "Extracting MNIST_data/t10k-images-idx3-ubyte.gz\n",
      "Successfully downloaded t10k-labels-idx1-ubyte.gz 4542 bytes.\n",
      "Extracting MNIST_data/t10k-labels-idx1-ubyte.gz\n"
     ]
    }
   ],
   "source": [
    "import tensorflow as tf\n",
    "\n",
    "# Import MINST data\n",
    "from tensorflow.examples.tutorials.mnist import input_data\n",
    "mnist = input_data.read_data_sets(\"MNIST_data/\", one_hot=True)"
   ]
  },
  {
   "cell_type": "markdown",
   "metadata": {},
   "source": [
    "학습에 필요한 파라미터들을 설정합니다. linear regression예시와 다른점은 batch_size가 설정된다는 점이며, 이 값은 한번의 batch에 몇개의 데이터를 입력받느냐를 정하여 줍니다."
   ]
  },
  {
   "cell_type": "code",
   "execution_count": 3,
   "metadata": {
    "collapsed": true
   },
   "outputs": [],
   "source": [
    "# Parameters\n",
    "learning_rate = 0.01\n",
    "training_epochs = 25\n",
    "batch_size = 100\n",
    "display_step = 1"
   ]
  },
  {
   "cell_type": "markdown",
   "metadata": {},
   "source": [
    "$$ \n",
    "\\large{ P(y=1|x;w) = \\frac{e^{w^{(1)\\top} x + b^{(1)}}}{\\sum_{j=1}^{k} e^{w^{(j)\\top} x + b^{(j)}}} }\n",
    "$$\n",
    "\n",
    "$$ h(x) = \n",
    "\\left [ \\begin{array}{cc} \n",
    "P(y=1|x;w)  \\\\\n",
    "P(y=2|x;w)  \\\\\n",
    "... \\\\\n",
    "P(y=k|x;w)  \\\\\n",
    "\\end{array} \\right ]\n",
    "$$\n",
    "\n",
    "* x는 28x28 크기의 이미지 인풋으로 784차원의 인풋을 받도록 설정\n",
    "* y는 10 클래스로 출력이 되도록 설정. 위의 수식 기준으로는 k=10으로 설정된 경우임.\n",
    "* W와 b는 matrix 차원에 맞추어 변수 공간의 크기가 할당됩니다.\n",
    "* pred는 위의 수식에서 $h(x)$ 부분을 의미합니다. `tf.nn.softmax()`합수를 통해 softmax를 구성할 수 있고, exponential 안에 들어가는 부분을 인자로 받을 수 있으며 여기서는 Wx+b가 들어가게 됩니다."
   ]
  },
  {
   "cell_type": "code",
   "execution_count": 4,
   "metadata": {
    "collapsed": true
   },
   "outputs": [],
   "source": [
    "# tf Graph Input\n",
    "x = tf.placeholder(tf.float32, [None, 784]) # mnist data image of shape 28*28=784\n",
    "y = tf.placeholder(tf.float32, [None, 10]) # 0-9 digits recognition => 10 classes\n",
    "\n",
    "# Set model weights\n",
    "W = tf.Variable(tf.zeros([784, 10]))\n",
    "b = tf.Variable(tf.zeros([10]))\n",
    "\n",
    "# Construct model\n",
    "pred = tf.nn.softmax(tf.matmul(x, W) + b) # Softmax"
   ]
  },
  {
   "cell_type": "markdown",
   "metadata": {},
   "source": [
    "$$ cost = \\frac{1}{n} \\sum_{n} (- \\sum_{k} y \\log{\\hat{y}} ) $$"
   ]
  },
  {
   "cell_type": "code",
   "execution_count": 6,
   "metadata": {
    "collapsed": false
   },
   "outputs": [],
   "source": [
    "# Minimize error using cross entropy\n",
    "cost = tf.reduce_mean(-tf.reduce_sum(y*tf.log(pred), reduction_indices=1))\n",
    "# Gradient Descent\n",
    "optimizer = tf.train.GradientDescentOptimizer(learning_rate).minimize(cost)"
   ]
  },
  {
   "cell_type": "code",
   "execution_count": 7,
   "metadata": {
    "collapsed": true
   },
   "outputs": [],
   "source": [
    "# Initializing the variables\n",
    "init = tf.global_variables_initializer()"
   ]
  },
  {
   "cell_type": "code",
   "execution_count": 8,
   "metadata": {
    "collapsed": false
   },
   "outputs": [
    {
     "name": "stdout",
     "output_type": "stream",
     "text": [
      "Epoch: 0001 cost= 1.183671701\n",
      "Epoch: 0002 cost= 0.665093600\n",
      "Epoch: 0003 cost= 0.552661167\n",
      "Epoch: 0004 cost= 0.498580916\n",
      "Epoch: 0005 cost= 0.465463370\n",
      "Epoch: 0006 cost= 0.442502252\n",
      "Epoch: 0007 cost= 0.425388629\n",
      "Epoch: 0008 cost= 0.412178434\n",
      "Epoch: 0009 cost= 0.401353353\n",
      "Epoch: 0010 cost= 0.392370607\n",
      "Epoch: 0011 cost= 0.384772295\n",
      "Epoch: 0012 cost= 0.378171922\n",
      "Epoch: 0013 cost= 0.372400357\n",
      "Epoch: 0014 cost= 0.367258130\n",
      "Epoch: 0015 cost= 0.362751649\n",
      "Epoch: 0016 cost= 0.358631221\n",
      "Epoch: 0017 cost= 0.354872593\n",
      "Epoch: 0018 cost= 0.351479804\n",
      "Epoch: 0019 cost= 0.348328970\n",
      "Epoch: 0020 cost= 0.345445272\n",
      "Epoch: 0021 cost= 0.342732085\n",
      "Epoch: 0022 cost= 0.340273067\n",
      "Epoch: 0023 cost= 0.337933549\n",
      "Epoch: 0024 cost= 0.335755487\n",
      "Epoch: 0025 cost= 0.333669784\n",
      "Optimization Finished!\n",
      "Accuracy: 0.888667\n"
     ]
    }
   ],
   "source": [
    "# Launch the graph\n",
    "with tf.Session() as sess:\n",
    "    sess.run(init)\n",
    "\n",
    "    # Training cycle\n",
    "    for epoch in range(training_epochs):\n",
    "        avg_cost = 0.\n",
    "        total_batch = int(mnist.train.num_examples/batch_size)\n",
    "        # Loop over all batches\n",
    "        for i in range(total_batch):\n",
    "            batch_xs, batch_ys = mnist.train.next_batch(batch_size)\n",
    "            # Fit training using batch data\n",
    "            _, c = sess.run([optimizer, cost], feed_dict={x: batch_xs,\n",
    "                                                          y: batch_ys})\n",
    "            # Compute average loss\n",
    "            avg_cost += c / total_batch\n",
    "        # Display logs per epoch step\n",
    "        if (epoch+1) % display_step == 0:\n",
    "            print \"Epoch:\", '%04d' % (epoch+1), \"cost=\", \"{:.9f}\".format(avg_cost)\n",
    "\n",
    "    print \"Optimization Finished!\"\n",
    "\n",
    "    # Test model\n",
    "    correct_prediction = tf.equal(tf.argmax(pred, 1), tf.argmax(y, 1))\n",
    "    # Calculate accuracy for 3000 examples\n",
    "    accuracy = tf.reduce_mean(tf.cast(correct_prediction, tf.float32))\n",
    "    print \"Accuracy:\", accuracy.eval({x: mnist.test.images[:3000], y: mnist.test.labels[:3000]})"
   ]
  },
  {
   "cell_type": "code",
   "execution_count": null,
   "metadata": {
    "collapsed": true
   },
   "outputs": [],
   "source": []
  }
 ],
 "metadata": {
  "kernelspec": {
   "display_name": "Python 2",
   "language": "python",
   "name": "python2"
  },
  "language_info": {
   "codemirror_mode": {
    "name": "ipython",
    "version": 2
   },
   "file_extension": ".py",
   "mimetype": "text/x-python",
   "name": "python",
   "nbconvert_exporter": "python",
   "pygments_lexer": "ipython2",
   "version": "2.7.13"
  }
 },
 "nbformat": 4,
 "nbformat_minor": 0
}
