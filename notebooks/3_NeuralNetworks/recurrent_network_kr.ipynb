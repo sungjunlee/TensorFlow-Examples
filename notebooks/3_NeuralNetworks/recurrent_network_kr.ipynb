{
 "cells": [
  {
   "cell_type": "markdown",
   "metadata": {
    "collapsed": true
   },
   "source": [
    "'''\n",
    "A Reccurent Neural Network (LSTM) implementation example using TensorFlow library.\n",
    "This example is using the MNIST database of handwritten digits (http://yann.lecun.com/exdb/mnist/)\n",
    "Long Short Term Memory paper: http://deeplearning.cs.cmu.edu/pdfs/Hochreiter97_lstm.pdf\n",
    "\n",
    "Author: Aymeric Damien\n",
    "Project: https://github.com/aymericdamien/TensorFlow-Examples/\n",
    "'''"
   ]
  },
  {
   "cell_type": "markdown",
   "metadata": {},
   "source": [
    "MNIST 데이터를 가져옵니다."
   ]
  },
  {
   "cell_type": "code",
   "execution_count": 1,
   "metadata": {
    "collapsed": false
   },
   "outputs": [
    {
     "name": "stdout",
     "output_type": "stream",
     "text": [
      "Extracting MNIST_data/train-images-idx3-ubyte.gz\n",
      "Extracting MNIST_data/train-labels-idx1-ubyte.gz\n",
      "Extracting MNIST_data/t10k-images-idx3-ubyte.gz\n",
      "Extracting MNIST_data/t10k-labels-idx1-ubyte.gz\n"
     ]
    }
   ],
   "source": [
    "import tensorflow as tf\n",
    "from tensorflow.contrib import rnn\n",
    "import numpy as np\n",
    "\n",
    "# Import MINST data\n",
    "from tensorflow.examples.tutorials.mnist import input_data\n",
    "mnist = input_data.read_data_sets(\"MNIST_data/\", one_hot=True)"
   ]
  },
  {
   "cell_type": "markdown",
   "metadata": {
    "collapsed": true
   },
   "source": [
    "'''\n",
    "To classify images using a reccurent neural network, we consider every image\n",
    "row as a sequence of pixels. Because MNIST image shape is 28*28px, we will then\n",
    "handle 28 sequences of 28 steps for every sample.\n",
    "'''"
   ]
  },
  {
   "cell_type": "markdown",
   "metadata": {},
   "source": [
    "본래 이미지는 기본적으로는 sequence라고 보기 그렇지만 일단 여기 예시에서는 28x28의 MNIST 데이터의 한줄 한줄을 sequence로 해석하도록 합니다. 즉 28 timestep의 시퀀스로 해석합니다.\n",
    "\n",
    "아래는 파라미터와 placeholder를 준비하는 과정입니다.\n",
    "\n",
    "* parameters\n",
    "    * learning_rate, training_iters, batch_size, display_step\n",
    "* network parameters\n",
    "    * n_input: input data의 차원수 (한 time step에서의 데이터 차원수)\n",
    "    * n_steps: time step수\n",
    "    * n_hidden: LSTM에 사용할 hidden layer 갯수\n",
    "    * n_classes: 최종 결과 class의 수\n",
    "* placeholder 정의\n",
    "    * x: [batch_size, n_steps, n_inputs] 차원으로 입력 정의\n",
    "    * y: [batch_size, n_classes] 차원으로 출력 정의"
   ]
  },
  {
   "cell_type": "code",
   "execution_count": 2,
   "metadata": {
    "collapsed": false
   },
   "outputs": [],
   "source": [
    "# Parameters\n",
    "learning_rate = 0.001\n",
    "training_iters = 100000\n",
    "batch_size = 128\n",
    "display_step = 10\n",
    "\n",
    "# Network Parameters\n",
    "n_input = 28 # MNIST data input (img shape: 28*28)\n",
    "n_steps = 28 # timesteps\n",
    "n_hidden = 128 # hidden layer num of features\n",
    "n_classes = 10 # MNIST total classes (0-9 digits)\n",
    "\n",
    "# tf Graph input\n",
    "x = tf.placeholder(\"float\", [None, n_steps, n_input])\n",
    "y = tf.placeholder(\"float\", [None, n_classes])\n",
    "\n",
    "# Define weights\n",
    "weights = {\n",
    "    'out': tf.Variable(tf.random_normal([n_hidden, n_classes]))\n",
    "}\n",
    "biases = {\n",
    "    'out': tf.Variable(tf.random_normal([n_classes]))\n",
    "}"
   ]
  },
  {
   "cell_type": "markdown",
   "metadata": {},
   "source": [
    "RNN 생성을 위한 helper함수를 만든다.\n",
    "* parameters\n",
    "    * x: 입력\n",
    "    * weights: weights (tf.Variable)\n",
    "    * biases: weights (tf.Variable)\n",
    "* input shape를 LSTM에 맞게 맞추는 부분\n",
    "    * `tf.transpose()`를 통해 batch_size와 n_steps의 위치를 바꾼다. 즉, x=[n_steps, batch_size, n_input]이 된다.\n",
    "    * `tf.reshape()`를 통해 [-1, n_input], 즉 x=[n_steps * batch_size, n_input]가 된다.\n",
    "    * `tf.split()`를 통해 [n_steps * batch_size, n_input]를 0번째 차원을 기준으로 n_steps만큼 나누어 리스트를 만든다. 리스트 내의 하나의 tensor는 (batch_size, n_input)이 되고 이 tensor가 n_steps 만큼 있는 list가 반환된다.\n",
    "* LSTM 구성 부분\n",
    "    * `rnn.BasicLSTMCell()` 으로 lstm_cell 변수에 LSTM network에 사용할 기본 셀을 정의합니다. 이 때 차원수를 n_hidden만큼 두고, forget_bias를 아예 1.0으로 설정합니다.(기본값이라고 합니다.) google에 의하면 to reduce the scale of forgetting in the beginning of the training 용이라고 합니다.\n",
    "    * `rnn.static_rnn()`함수를 통해 실제 LSTM network를 구성합니다. 입력으로 위에서 reshape등을 통해 생성한 x 를 받고 출력으로 출력 결과 outputs와 states 를 반환합니다.\n",
    "* 최종 return은 LSTM 마지막(outputs[-1])에 대해 Ax+b 폼을 위한 형태로 return하여 줍니다."
   ]
  },
  {
   "cell_type": "code",
   "execution_count": 3,
   "metadata": {
    "collapsed": true
   },
   "outputs": [],
   "source": [
    "def RNN(x, weights, biases):\n",
    "\n",
    "    # Prepare data shape to match `rnn` function requirements\n",
    "    # Current data input shape: (batch_size, n_steps, n_input)\n",
    "    # Required shape: 'n_steps' tensors list of shape (batch_size, n_input)\n",
    "    \n",
    "    # Permuting batch_size and n_steps\n",
    "    x = tf.transpose(x, [1, 0, 2])\n",
    "    # Reshaping to (n_steps*batch_size, n_input)\n",
    "    x = tf.reshape(x, [-1, n_input])\n",
    "    # Split to get a list of 'n_steps' tensors of shape (batch_size, n_input)\n",
    "    x = tf.split(x, n_steps, 0)\n",
    "\n",
    "    # Define a lstm cell with tensorflow\n",
    "    lstm_cell = rnn.BasicLSTMCell(n_hidden, forget_bias=1.0)\n",
    "\n",
    "    # Get lstm cell output\n",
    "    outputs, states = rnn.static_rnn(lstm_cell, x, dtype=tf.float32)\n",
    "\n",
    "    # Linear activation, using rnn inner loop last output\n",
    "    return tf.matmul(outputs[-1], weights['out']) + biases['out']"
   ]
  },
  {
   "cell_type": "markdown",
   "metadata": {},
   "source": [
    "위에서 만든 함수를 바탕으로 RNN을 구성합니다.\n",
    "최종 결과는 multiclass classification이므로 softmax loss를 취하고 AdamOptimizer를 통해 최적화를 수행하도록 합니다."
   ]
  },
  {
   "cell_type": "code",
   "execution_count": 4,
   "metadata": {
    "collapsed": false
   },
   "outputs": [],
   "source": [
    "pred = RNN(x, weights, biases)\n",
    "\n",
    "# Define loss and optimizer\n",
    "cost = tf.reduce_mean(tf.nn.softmax_cross_entropy_with_logits(logits=pred, labels=y))\n",
    "optimizer = tf.train.AdamOptimizer(learning_rate=learning_rate).minimize(cost)\n",
    "\n",
    "# Evaluate model\n",
    "correct_pred = tf.equal(tf.argmax(pred,1), tf.argmax(y,1))\n",
    "accuracy = tf.reduce_mean(tf.cast(correct_pred, tf.float32))\n",
    "\n",
    "# Initializing the variables\n",
    "init = tf.global_variables_initializer()"
   ]
  },
  {
   "cell_type": "markdown",
   "metadata": {},
   "source": [
    "아래의 과정에서 실제 학습이 batch 단위로 일어나게 됩니다.\n",
    "* CNN예시와 다른점은 tf graph에 넣기 전에 reshape를 통해 (batch_size, b_steps, n_input)으로 시퀀스 형태로 변환하여 넣었다는 점입니다.\n",
    "* 약간 억지로 RNN 문제로 구성한 것이므로 성능이 아주 좋다고 하기엔 그렇지만 LSTM은 약간 만능툴(...) 같은 느낌이므로 어찌저찌 성능은 나옵니다."
   ]
  },
  {
   "cell_type": "code",
   "execution_count": 5,
   "metadata": {
    "collapsed": false
   },
   "outputs": [
    {
     "name": "stdout",
     "output_type": "stream",
     "text": [
      "Iter 1280, Minibatch Loss= 1.985561, Training Accuracy= 0.32812\n",
      "Iter 2560, Minibatch Loss= 1.492967, Training Accuracy= 0.50781\n",
      "Iter 3840, Minibatch Loss= 1.338582, Training Accuracy= 0.56250\n",
      "Iter 5120, Minibatch Loss= 1.163514, Training Accuracy= 0.57812\n",
      "Iter 6400, Minibatch Loss= 1.014229, Training Accuracy= 0.65625\n",
      "Iter 7680, Minibatch Loss= 0.717111, Training Accuracy= 0.76562\n",
      "Iter 8960, Minibatch Loss= 0.572510, Training Accuracy= 0.84375\n",
      "Iter 10240, Minibatch Loss= 0.608282, Training Accuracy= 0.81250\n",
      "Iter 11520, Minibatch Loss= 0.459709, Training Accuracy= 0.85156\n",
      "Iter 12800, Minibatch Loss= 0.450477, Training Accuracy= 0.86719\n",
      "Iter 14080, Minibatch Loss= 0.495952, Training Accuracy= 0.85938\n",
      "Iter 15360, Minibatch Loss= 0.318509, Training Accuracy= 0.86719\n",
      "Iter 16640, Minibatch Loss= 0.383801, Training Accuracy= 0.89062\n",
      "Iter 17920, Minibatch Loss= 0.283810, Training Accuracy= 0.92969\n",
      "Iter 19200, Minibatch Loss= 0.261616, Training Accuracy= 0.90625\n",
      "Iter 20480, Minibatch Loss= 0.285155, Training Accuracy= 0.89844\n",
      "Iter 21760, Minibatch Loss= 0.380404, Training Accuracy= 0.87500\n",
      "Iter 23040, Minibatch Loss= 0.302131, Training Accuracy= 0.89062\n",
      "Iter 24320, Minibatch Loss= 0.231732, Training Accuracy= 0.91406\n",
      "Iter 25600, Minibatch Loss= 0.242018, Training Accuracy= 0.90625\n",
      "Iter 26880, Minibatch Loss= 0.309586, Training Accuracy= 0.88281\n",
      "Iter 28160, Minibatch Loss= 0.231866, Training Accuracy= 0.91406\n",
      "Iter 29440, Minibatch Loss= 0.215042, Training Accuracy= 0.95312\n",
      "Iter 30720, Minibatch Loss= 0.241783, Training Accuracy= 0.90625\n",
      "Iter 32000, Minibatch Loss= 0.204493, Training Accuracy= 0.93750\n",
      "Iter 33280, Minibatch Loss= 0.140129, Training Accuracy= 0.96094\n",
      "Iter 34560, Minibatch Loss= 0.111806, Training Accuracy= 0.95312\n",
      "Iter 35840, Minibatch Loss= 0.188649, Training Accuracy= 0.95312\n",
      "Iter 37120, Minibatch Loss= 0.300778, Training Accuracy= 0.92188\n",
      "Iter 38400, Minibatch Loss= 0.154904, Training Accuracy= 0.95312\n",
      "Iter 39680, Minibatch Loss= 0.247457, Training Accuracy= 0.93750\n",
      "Iter 40960, Minibatch Loss= 0.292836, Training Accuracy= 0.87500\n",
      "Iter 42240, Minibatch Loss= 0.269477, Training Accuracy= 0.90625\n",
      "Iter 43520, Minibatch Loss= 0.250285, Training Accuracy= 0.94531\n",
      "Iter 44800, Minibatch Loss= 0.122057, Training Accuracy= 0.96094\n",
      "Iter 46080, Minibatch Loss= 0.273919, Training Accuracy= 0.90625\n",
      "Iter 47360, Minibatch Loss= 0.173468, Training Accuracy= 0.92969\n",
      "Iter 48640, Minibatch Loss= 0.152014, Training Accuracy= 0.95312\n",
      "Iter 49920, Minibatch Loss= 0.263646, Training Accuracy= 0.92969\n",
      "Iter 51200, Minibatch Loss= 0.100710, Training Accuracy= 0.96875\n",
      "Iter 52480, Minibatch Loss= 0.198900, Training Accuracy= 0.95312\n",
      "Iter 53760, Minibatch Loss= 0.145285, Training Accuracy= 0.95312\n",
      "Iter 55040, Minibatch Loss= 0.110702, Training Accuracy= 0.96875\n",
      "Iter 56320, Minibatch Loss= 0.116878, Training Accuracy= 0.96875\n",
      "Iter 57600, Minibatch Loss= 0.135115, Training Accuracy= 0.96094\n",
      "Iter 58880, Minibatch Loss= 0.143472, Training Accuracy= 0.95312\n",
      "Iter 60160, Minibatch Loss= 0.102489, Training Accuracy= 0.97656\n",
      "Iter 61440, Minibatch Loss= 0.108088, Training Accuracy= 0.95312\n",
      "Iter 62720, Minibatch Loss= 0.111446, Training Accuracy= 0.96094\n",
      "Iter 64000, Minibatch Loss= 0.170794, Training Accuracy= 0.94531\n",
      "Iter 65280, Minibatch Loss= 0.156219, Training Accuracy= 0.95312\n",
      "Iter 66560, Minibatch Loss= 0.143906, Training Accuracy= 0.96094\n",
      "Iter 67840, Minibatch Loss= 0.106862, Training Accuracy= 0.96094\n",
      "Iter 69120, Minibatch Loss= 0.152446, Training Accuracy= 0.94531\n",
      "Iter 70400, Minibatch Loss= 0.133054, Training Accuracy= 0.95312\n",
      "Iter 71680, Minibatch Loss= 0.133252, Training Accuracy= 0.95312\n",
      "Iter 72960, Minibatch Loss= 0.087877, Training Accuracy= 0.96094\n",
      "Iter 74240, Minibatch Loss= 0.047787, Training Accuracy= 0.98438\n",
      "Iter 75520, Minibatch Loss= 0.058685, Training Accuracy= 0.98438\n",
      "Iter 76800, Minibatch Loss= 0.115370, Training Accuracy= 0.94531\n",
      "Iter 78080, Minibatch Loss= 0.125686, Training Accuracy= 0.95312\n",
      "Iter 79360, Minibatch Loss= 0.166279, Training Accuracy= 0.94531\n",
      "Iter 80640, Minibatch Loss= 0.033033, Training Accuracy= 0.99219\n",
      "Iter 81920, Minibatch Loss= 0.136910, Training Accuracy= 0.96094\n",
      "Iter 83200, Minibatch Loss= 0.076070, Training Accuracy= 0.96875\n",
      "Iter 84480, Minibatch Loss= 0.072191, Training Accuracy= 0.98438\n",
      "Iter 85760, Minibatch Loss= 0.118899, Training Accuracy= 0.96094\n",
      "Iter 87040, Minibatch Loss= 0.044199, Training Accuracy= 0.99219\n",
      "Iter 88320, Minibatch Loss= 0.254261, Training Accuracy= 0.90625\n",
      "Iter 89600, Minibatch Loss= 0.076666, Training Accuracy= 0.96875\n",
      "Iter 90880, Minibatch Loss= 0.117249, Training Accuracy= 0.95312\n",
      "Iter 92160, Minibatch Loss= 0.056551, Training Accuracy= 0.99219\n",
      "Iter 93440, Minibatch Loss= 0.079852, Training Accuracy= 0.98438\n",
      "Iter 94720, Minibatch Loss= 0.077085, Training Accuracy= 0.96875\n",
      "Iter 96000, Minibatch Loss= 0.108461, Training Accuracy= 0.96094\n",
      "Iter 97280, Minibatch Loss= 0.152940, Training Accuracy= 0.96875\n",
      "Iter 98560, Minibatch Loss= 0.199264, Training Accuracy= 0.94531\n",
      "Iter 99840, Minibatch Loss= 0.093507, Training Accuracy= 0.97656\n",
      "Optimization Finished!\n",
      "Testing Accuracy: 1.0\n"
     ]
    }
   ],
   "source": [
    "# Launch the graph\n",
    "with tf.Session() as sess:\n",
    "    sess.run(init)\n",
    "    step = 1\n",
    "    # Keep training until reach max iterations\n",
    "    while step * batch_size < training_iters:\n",
    "        batch_x, batch_y = mnist.train.next_batch(batch_size)\n",
    "        # Reshape data to get 28 seq of 28 elements\n",
    "        batch_x = batch_x.reshape((batch_size, n_steps, n_input))\n",
    "        # Run optimization op (backprop)\n",
    "        sess.run(optimizer, feed_dict={x: batch_x, y: batch_y})\n",
    "        if step % display_step == 0:\n",
    "            # Calculate batch accuracy\n",
    "            acc = sess.run(accuracy, feed_dict={x: batch_x, y: batch_y})\n",
    "            # Calculate batch loss\n",
    "            loss = sess.run(cost, feed_dict={x: batch_x, y: batch_y})\n",
    "            print \"Iter \" + str(step*batch_size) + \", Minibatch Loss= \" + \\\n",
    "                  \"{:.6f}\".format(loss) + \", Training Accuracy= \" + \\\n",
    "                  \"{:.5f}\".format(acc)\n",
    "        step += 1\n",
    "    print \"Optimization Finished!\"\n",
    "\n",
    "    # Calculate accuracy for 128 mnist test images\n",
    "    test_len = 128\n",
    "    test_data = mnist.test.images[:test_len].reshape((-1, n_steps, n_input))\n",
    "    test_label = mnist.test.labels[:test_len]\n",
    "    print \"Testing Accuracy:\", \\\n",
    "        sess.run(accuracy, feed_dict={x: test_data, y: test_label})"
   ]
  },
  {
   "cell_type": "code",
   "execution_count": null,
   "metadata": {
    "collapsed": true
   },
   "outputs": [],
   "source": []
  }
 ],
 "metadata": {
  "kernelspec": {
   "display_name": "Python 2",
   "language": "python",
   "name": "python2"
  },
  "language_info": {
   "codemirror_mode": {
    "name": "ipython",
    "version": 2
   },
   "file_extension": ".py",
   "mimetype": "text/x-python",
   "name": "python",
   "nbconvert_exporter": "python",
   "pygments_lexer": "ipython2",
   "version": "2.7.13"
  }
 },
 "nbformat": 4,
 "nbformat_minor": 0
}
