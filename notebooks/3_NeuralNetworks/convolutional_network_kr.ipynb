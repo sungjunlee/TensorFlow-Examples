{
 "cells": [
  {
   "cell_type": "code",
   "execution_count": 1,
   "metadata": {
    "collapsed": false
   },
   "outputs": [
    {
     "data": {
      "text/plain": [
       "'\\nA Convolutional Network implementation example using TensorFlow library.\\nThis example is using the MNIST database of handwritten digits\\n(http://yann.lecun.com/exdb/mnist/)\\n\\nAuthor: Aymeric Damien\\nProject: https://github.com/aymericdamien/TensorFlow-Examples/\\n'"
      ]
     },
     "execution_count": 1,
     "metadata": {},
     "output_type": "execute_result"
    }
   ],
   "source": [
    "'''\n",
    "A Convolutional Network implementation example using TensorFlow library.\n",
    "This example is using the MNIST database of handwritten digits\n",
    "(http://yann.lecun.com/exdb/mnist/)\n",
    "\n",
    "Author: Aymeric Damien\n",
    "Project: https://github.com/aymericdamien/TensorFlow-Examples/\n",
    "'''"
   ]
  },
  {
   "cell_type": "code",
   "execution_count": 2,
   "metadata": {
    "collapsed": false
   },
   "outputs": [
    {
     "name": "stdout",
     "output_type": "stream",
     "text": [
      "Successfully downloaded train-images-idx3-ubyte.gz 9912422 bytes.\n",
      "Extracting MNIST_data/train-images-idx3-ubyte.gz\n",
      "Successfully downloaded train-labels-idx1-ubyte.gz 28881 bytes.\n",
      "Extracting MNIST_data/train-labels-idx1-ubyte.gz\n",
      "Successfully downloaded t10k-images-idx3-ubyte.gz 1648877 bytes.\n",
      "Extracting MNIST_data/t10k-images-idx3-ubyte.gz\n",
      "Successfully downloaded t10k-labels-idx1-ubyte.gz 4542 bytes.\n",
      "Extracting MNIST_data/t10k-labels-idx1-ubyte.gz\n"
     ]
    }
   ],
   "source": [
    "import tensorflow as tf\n",
    "\n",
    "# Import MNIST data\n",
    "from tensorflow.examples.tutorials.mnist import input_data\n",
    "mnist = input_data.read_data_sets(\"MNIST_data/\", one_hot=True)"
   ]
  },
  {
   "cell_type": "markdown",
   "metadata": {},
   "source": [
    "모형을 구성하기 위한 파라미터들을 설정합니다.\n",
    "\n",
    "* learning_rate: Gradient descent에서 사용할 학습율 파라미터\n",
    "* training_iters: training을 몇바퀴 돌 것인지 설정\n",
    "* batch_size: 한번의 배치에 몇개의 데이터를 받을지 결정\n",
    "* display_step: 몇번의 step마다 중간결과를 출력할지 결정\n",
    "\n",
    "* n_input: input의 차원수. 여기선 28x28 = 768\n",
    "* n_classes: output의 차원수. 0~9까지 총 10개의 차원\n",
    "* dropout:"
   ]
  },
  {
   "cell_type": "code",
   "execution_count": 3,
   "metadata": {
    "collapsed": true
   },
   "outputs": [],
   "source": [
    "# Parameters\n",
    "learning_rate = 0.001\n",
    "training_iters = 200000\n",
    "batch_size = 128\n",
    "display_step = 10\n",
    "\n",
    "# Network Parameters\n",
    "n_input = 784 # MNIST data input (img shape: 28*28)\n",
    "n_classes = 10 # MNIST total classes (0-9 digits)\n",
    "dropout = 0.75 # Dropout, probability to keep units"
   ]
  },
  {
   "cell_type": "markdown",
   "metadata": {},
   "source": [
    "x, y에 placeholder를 지정하며 차원은 각각 n_input과 n_classes에 맞게 설정합니다.\n",
    "keep_prob는 dropout probability를 지정할 수 있도록 placeholder를 만든 것입니다.\n",
    "이는 test할때는 이 keep_prob를 1.0으로 수정하여 사용해야 하기 때문에 placeholder로 설정한 것입니다."
   ]
  },
  {
   "cell_type": "code",
   "execution_count": 4,
   "metadata": {
    "collapsed": true
   },
   "outputs": [],
   "source": [
    "# tf Graph input\n",
    "x = tf.placeholder(tf.float32, [None, n_input])\n",
    "y = tf.placeholder(tf.float32, [None, n_classes])\n",
    "keep_prob = tf.placeholder(tf.float32) #dropout (keep probability)"
   ]
  },
  {
   "cell_type": "markdown",
   "metadata": {},
   "source": [
    "편의를 위해 여러 wrapper함수들을 정의합니다.\n",
    "\n",
    "* conv2d\n",
    "  * 2D convolution 연산을 도와주는 wrapper이며 tf.nn.conv2d와 bias_add, relu로 구성됩니다.\n",
    "  * $ \\text{relu}( \\text{conv2d}(x, W) + b ) $\n",
    "  * tensorflow에서 2d 는 기본적으로 NHWC (Num_sample x Height x Width x Channels) 구조를 따릅니다.\n",
    "  * strides 옵션에서 0, 3차원이 1, 1인건 sample과 channel방향에 대해서는 convolution을 겹쳐서 하진 않겠다는 이야기입니다.\n",
    "  * strides 값은 몇칸씩 filter(kernel)을 미끄러트리면서 Convolution을 수행할지를 의미합니다.\n",
    "  * padding은 input의 주위 공간에 얼마나 zero padding을 할지를 결정해주는 값입니다.\n",
    "      * 'SAME': input과 같은 크기로 나오도록 padding 결정, 'VALID' padding없이 정직하게 convolution 연산을 함. output 크기는 input에 비해 작아짐\n"
   ]
  },
  {
   "cell_type": "code",
   "execution_count": 5,
   "metadata": {
    "collapsed": true
   },
   "outputs": [],
   "source": [
    "# Create some wrappers for simplicity\n",
    "def conv2d(x, W, b, strides=1):\n",
    "    # Conv2D wrapper, with bias and relu activation\n",
    "    x = tf.nn.conv2d(x, W, strides=[1, strides, strides, 1], padding='SAME')\n",
    "    x = tf.nn.bias_add(x, b)\n",
    "    return tf.nn.relu(x)"
   ]
  },
  {
   "cell_type": "markdown",
   "metadata": {},
   "source": [
    "* maxpool2d\n",
    "    * 2차원 maxpooling 구성을 도와주기 위해 만든 wrapper 함수\n",
    "    * ksize는 kernel size를 의미하고, 0번째, 3번째가 1인 이유는 위와 같이 num_sample과 channels 공간쪽으로는 pooling을 안하겠다는 이야기입니다.\n",
    "    * strides는 미끄러지는 사이즈를 의미하고 보통의 풀링은 ksize와 strides를 동일하게 설정합니다. (그래야 overlap 되는 형태로 풀링이 되지 않습니다.)\n",
    "    * padding은 conv2d와 거의 동일한 의미로 정의됩니다. 즉, SAME은 입/출력 크기가 같도록 zero padding이 되고, VALID는 줄어듭니다 차원이"
   ]
  },
  {
   "cell_type": "code",
   "execution_count": 6,
   "metadata": {
    "collapsed": true
   },
   "outputs": [],
   "source": [
    "def maxpool2d(x, k=2):\n",
    "    # MaxPool2D wrapper\n",
    "    return tf.nn.max_pool(x, ksize=[1, k, k, 1], strides=[1, k, k, 1],\n",
    "                          padding='SAME')"
   ]
  },
  {
   "cell_type": "markdown",
   "metadata": {},
   "source": [
    "* conv_net 함수에서는 실제 모형을 구성하는 부분이 구현되어 있습니다.\n",
    "* 받는 인자들\n",
    "    * x: 데이터 input. shape=[None, 784]\n",
    "    * weights: tf.Variable로 만들어진 weight 들을 저장하고 있는 dictionary 객체\n",
    "    * biases: tf.Variable로 만들어진 bias 들을 저장하고 있는 dictionary 객체\n",
    "    * dropout: dropout의 정도를 0.0~1.0으로 정의해 주는 변수를 넘김\n",
    "* 내부 구현의 역할들 설명\n",
    "    * tf.reshape를 통해 [None, 784] 형태의 데이터를 [None, 28, 28, 1] 형태로 바꾼다.\n",
    "        * 이값의 순서는 위에서 설명한 NHWC에 따른 형태로 데이터를 변환할 것이다. 여기선 흑백 데이터이므로 Channel = 1이고, -1이 의미하는 바는 다른 차원들을 다 계산한 후 자동으로 -1 부분의 값을 채워 넣으라는 의미이다.\n",
    "    * conv1, conv2는 위에서 정의한 conv2d와 maxpool2d를 이용해 convolution layer와 pooling layer를 정의한다.\n",
    "        * 우측항을 통해 tf graph 내에서는 정상적으로 연결작업이 일어나므로 다른 task에 대해 변수를 중복적으로 사용해도 된다. (conv1을 conv2d와 maxpool2d 모두에 사용)\n",
    "    * fcl은 실제 classifier로 연결되는 fully connected layer 구성하는 부분을 의미한다.\n",
    "        * weights[wd1].get_shape().as_list()[0]은 wd1 weight의 input 차원을 의미이므로, [-1, ...]은 첫번째 차원은 batch_size 만큼의 인스턴스 수를 의미하고, 두번째 차원은 feature들을 한줄롤 쭉 나열한 것을 의미한다.\n",
    "        * 위 과정을 통해 weights['wdl']와 곱해질 수 있는 준비를 마치고 tf.matmul을 통해 weight를 곱하고 Ax+b 를 위해 biases['bd1']을 더한다.\n",
    "        * 이후 tf.nn.relu(fcl)을 통해 activation function을 붙인다.\n",
    "        * fcl 마지막 부분에 tf.nn.dropout을 통해 dropout을 수행한다.\n",
    "    * out은 최종 output layer로 역시 평범(?) 하게 Ax+b형태를 구성하고 이 결과값을 return 한다."
   ]
  },
  {
   "cell_type": "code",
   "execution_count": 7,
   "metadata": {
    "collapsed": true
   },
   "outputs": [],
   "source": [
    "# Create model\n",
    "def conv_net(x, weights, biases, dropout):\n",
    "    # Reshape input picture\n",
    "    x = tf.reshape(x, shape=[-1, 28, 28, 1])\n",
    "\n",
    "    # Convolution Layer\n",
    "    conv1 = conv2d(x, weights['wc1'], biases['bc1'])\n",
    "    # Max Pooling (down-sampling)\n",
    "    conv1 = maxpool2d(conv1, k=2)\n",
    "\n",
    "    # Convolution Layer\n",
    "    conv2 = conv2d(conv1, weights['wc2'], biases['bc2'])\n",
    "    # Max Pooling (down-sampling)\n",
    "    conv2 = maxpool2d(conv2, k=2)\n",
    "\n",
    "    # Fully connected layer\n",
    "    # Reshape conv2 output to fit fully connected layer input\n",
    "    fc1 = tf.reshape(conv2, [-1, weights['wd1'].get_shape().as_list()[0]])\n",
    "    fc1 = tf.add(tf.matmul(fc1, weights['wd1']), biases['bd1'])\n",
    "    fc1 = tf.nn.relu(fc1)\n",
    "    # Apply Dropout\n",
    "    fc1 = tf.nn.dropout(fc1, dropout)\n",
    "\n",
    "    # Output, class prediction\n",
    "    out = tf.add(tf.matmul(fc1, weights['out']), biases['out'])\n",
    "    return out"
   ]
  },
  {
   "cell_type": "markdown",
   "metadata": {},
   "source": [
    "위에서 작성한 함수들을 바탕으로 실제 모형을 구성하는 부분입니다.\n",
    "* weights\n",
    "    * wc1, wc2는 conv2d를 위한 filter로 [filter_height, filter_width, in_channels, out_channels] 형태를 따릅니다.\n",
    "    * wdl이 7*7*64가 input 차원인 이유는 maxpool2d에서 'SAME'으로 2x2필터를 사용하였기 때문에 height, weight모두 한번 거칠때마다 1/2씩 준다는 걸 의미하므로 28 -> 14 -> 7 로 차원이 줄어든 결과임을 의미합니다.\n",
    "    * wdl에서 두번째 차원 숫자인 1024는 fcl에서 사용할 hidden node의 숫자입니다.\n",
    "    * out은 wdl의 1024개의 노드로부터 n_classes(=10)의 output을 생성하도록 weight를 설정한 것입니다.\n",
    "* biases\n",
    "    * bias들에 대해 tf.Variable로 정의합니다 기본적으로 위의 wc1, wc2, bdl, out의 output 차원과 차원크기를 공유합니다.\n",
    "* `pred=conv_net()`을 통해 위의 함수를 기반으로 모형을 생성합니다.\n",
    "* cost 부분은 `tf.nn.softmax_cross_entropy_with_logits()` 함수를 사용해 softmax loss를 한다음, tf.reduce_mean()으로 batch안에서의  loss의 평균값을 구합니다.\n",
    "* optimizer는 위의 loss function을 tf.train.AdamOptimizer 를 통해 minimize하도록 설정합니다.\n",
    "* correct_pred와 accuracy는 accuracy 수치를 구하기 위한 연산을 설정해 둔 것입니다."
   ]
  },
  {
   "cell_type": "code",
   "execution_count": 8,
   "metadata": {
    "collapsed": true
   },
   "outputs": [],
   "source": [
    "# Store layers weight & bias\n",
    "weights = {\n",
    "    # 5x5 conv, 1 input, 32 outputs\n",
    "    'wc1': tf.Variable(tf.random_normal([5, 5, 1, 32])),\n",
    "    # 5x5 conv, 32 inputs, 64 outputs\n",
    "    'wc2': tf.Variable(tf.random_normal([5, 5, 32, 64])),\n",
    "    # fully connected, 7*7*64 inputs, 1024 outputs\n",
    "    'wd1': tf.Variable(tf.random_normal([7*7*64, 1024])),\n",
    "    # 1024 inputs, 10 outputs (class prediction)\n",
    "    'out': tf.Variable(tf.random_normal([1024, n_classes]))\n",
    "}\n",
    "\n",
    "biases = {\n",
    "    'bc1': tf.Variable(tf.random_normal([32])),\n",
    "    'bc2': tf.Variable(tf.random_normal([64])),\n",
    "    'bd1': tf.Variable(tf.random_normal([1024])),\n",
    "    'out': tf.Variable(tf.random_normal([n_classes]))\n",
    "}\n",
    "\n",
    "# Construct model\n",
    "pred = conv_net(x, weights, biases, keep_prob)\n",
    "\n",
    "# Define loss and optimizer\n",
    "cost = tf.reduce_mean(tf.nn.softmax_cross_entropy_with_logits(logits=pred, labels=y))\n",
    "optimizer = tf.train.AdamOptimizer(learning_rate=learning_rate).minimize(cost)\n",
    "\n",
    "# Evaluate model\n",
    "correct_pred = tf.equal(tf.argmax(pred, 1), tf.argmax(y, 1))\n",
    "accuracy = tf.reduce_mean(tf.cast(correct_pred, tf.float32))\n",
    "\n",
    "# Initializing the variables\n",
    "init = tf.global_variables_initializer()"
   ]
  },
  {
   "cell_type": "markdown",
   "metadata": {},
   "source": [
    "MNIST 데이터셋을 통해 학습하도록 합니다.\n",
    "주의하여 보아야 할 점은 학습시에는 keep_prob를 dropout 변수를 통해 1.0 미만의 값을 사용하지만 predict를 수행할때는 1.0을 사용한다는 점입니다."
   ]
  },
  {
   "cell_type": "code",
   "execution_count": 9,
   "metadata": {
    "collapsed": false,
    "scrolled": false
   },
   "outputs": [
    {
     "name": "stdout",
     "output_type": "stream",
     "text": [
      "Iter 1280, Minibatch Loss= 16965.662109, Training Accuracy= 0.29688\n",
      "Iter 2560, Minibatch Loss= 6193.611328, Training Accuracy= 0.63281\n",
      "Iter 3840, Minibatch Loss= 6702.179199, Training Accuracy= 0.68750\n",
      "Iter 5120, Minibatch Loss= 4156.445312, Training Accuracy= 0.77344\n",
      "Iter 6400, Minibatch Loss= 2642.371826, Training Accuracy= 0.83594\n",
      "Iter 7680, Minibatch Loss= 3679.105713, Training Accuracy= 0.80469\n",
      "Iter 8960, Minibatch Loss= 3457.911377, Training Accuracy= 0.79688\n",
      "Iter 10240, Minibatch Loss= 2444.788818, Training Accuracy= 0.85938\n",
      "Iter 11520, Minibatch Loss= 2988.898926, Training Accuracy= 0.82031\n",
      "Iter 12800, Minibatch Loss= 1730.938354, Training Accuracy= 0.89844\n",
      "Iter 14080, Minibatch Loss= 2937.672119, Training Accuracy= 0.88281\n",
      "Iter 15360, Minibatch Loss= 2277.700195, Training Accuracy= 0.89844\n",
      "Iter 16640, Minibatch Loss= 954.914246, Training Accuracy= 0.92188\n",
      "Iter 17920, Minibatch Loss= 2524.730225, Training Accuracy= 0.85156\n",
      "Iter 19200, Minibatch Loss= 1554.467285, Training Accuracy= 0.94531\n",
      "Iter 20480, Minibatch Loss= 960.748047, Training Accuracy= 0.93750\n",
      "Iter 21760, Minibatch Loss= 677.681030, Training Accuracy= 0.92969\n",
      "Iter 23040, Minibatch Loss= 2306.176514, Training Accuracy= 0.89844\n",
      "Iter 24320, Minibatch Loss= 1050.191528, Training Accuracy= 0.93750\n",
      "Iter 25600, Minibatch Loss= 1312.647217, Training Accuracy= 0.96094\n",
      "Iter 26880, Minibatch Loss= 977.063416, Training Accuracy= 0.92188\n",
      "Iter 28160, Minibatch Loss= 537.679688, Training Accuracy= 0.91406\n",
      "Iter 29440, Minibatch Loss= 679.596313, Training Accuracy= 0.93750\n",
      "Iter 30720, Minibatch Loss= 1445.442017, Training Accuracy= 0.93750\n",
      "Iter 32000, Minibatch Loss= 592.892151, Training Accuracy= 0.95312\n",
      "Iter 33280, Minibatch Loss= 224.961258, Training Accuracy= 0.96875\n",
      "Iter 34560, Minibatch Loss= 245.862640, Training Accuracy= 0.96875\n",
      "Iter 35840, Minibatch Loss= 430.684692, Training Accuracy= 0.95312\n",
      "Iter 37120, Minibatch Loss= 493.695862, Training Accuracy= 0.92969\n",
      "Iter 38400, Minibatch Loss= 1820.297241, Training Accuracy= 0.89062\n",
      "Iter 39680, Minibatch Loss= 263.134155, Training Accuracy= 0.97656\n",
      "Iter 40960, Minibatch Loss= 1294.576660, Training Accuracy= 0.92188\n",
      "Iter 42240, Minibatch Loss= 708.849365, Training Accuracy= 0.95312\n",
      "Iter 43520, Minibatch Loss= 1420.733154, Training Accuracy= 0.91406\n",
      "Iter 44800, Minibatch Loss= 1091.513184, Training Accuracy= 0.96094\n",
      "Iter 46080, Minibatch Loss= 627.777405, Training Accuracy= 0.94531\n",
      "Iter 47360, Minibatch Loss= 818.684326, Training Accuracy= 0.92969\n",
      "Iter 48640, Minibatch Loss= 734.381592, Training Accuracy= 0.92188\n",
      "Iter 49920, Minibatch Loss= 1689.389404, Training Accuracy= 0.92188\n",
      "Iter 51200, Minibatch Loss= 761.753174, Training Accuracy= 0.95312\n",
      "Iter 52480, Minibatch Loss= 1451.393433, Training Accuracy= 0.91406\n",
      "Iter 53760, Minibatch Loss= 1020.310730, Training Accuracy= 0.92969\n",
      "Iter 55040, Minibatch Loss= 506.705170, Training Accuracy= 0.93750\n",
      "Iter 56320, Minibatch Loss= 873.859192, Training Accuracy= 0.91406\n",
      "Iter 57600, Minibatch Loss= 1178.343872, Training Accuracy= 0.93750\n",
      "Iter 58880, Minibatch Loss= 214.232010, Training Accuracy= 0.96875\n",
      "Iter 60160, Minibatch Loss= 504.096863, Training Accuracy= 0.93750\n",
      "Iter 61440, Minibatch Loss= 466.527222, Training Accuracy= 0.94531\n",
      "Iter 62720, Minibatch Loss= 576.292786, Training Accuracy= 0.94531\n",
      "Iter 64000, Minibatch Loss= 865.895569, Training Accuracy= 0.95312\n",
      "Iter 65280, Minibatch Loss= 663.309021, Training Accuracy= 0.92188\n",
      "Iter 66560, Minibatch Loss= 632.708496, Training Accuracy= 0.94531\n",
      "Iter 67840, Minibatch Loss= 843.534973, Training Accuracy= 0.94531\n",
      "Iter 69120, Minibatch Loss= 381.356842, Training Accuracy= 0.96875\n",
      "Iter 70400, Minibatch Loss= 525.125366, Training Accuracy= 0.96875\n",
      "Iter 71680, Minibatch Loss= 248.822540, Training Accuracy= 0.97656\n",
      "Iter 72960, Minibatch Loss= 269.225372, Training Accuracy= 0.96094\n",
      "Iter 74240, Minibatch Loss= 498.403259, Training Accuracy= 0.94531\n",
      "Iter 75520, Minibatch Loss= 574.417175, Training Accuracy= 0.93750\n",
      "Iter 76800, Minibatch Loss= 122.234451, Training Accuracy= 0.96875\n",
      "Iter 78080, Minibatch Loss= 177.492355, Training Accuracy= 0.98438\n",
      "Iter 79360, Minibatch Loss= 129.952560, Training Accuracy= 0.99219\n",
      "Iter 80640, Minibatch Loss= 432.162781, Training Accuracy= 0.95312\n",
      "Iter 81920, Minibatch Loss= 105.265564, Training Accuracy= 0.98438\n",
      "Iter 83200, Minibatch Loss= 162.785156, Training Accuracy= 0.96875\n",
      "Iter 84480, Minibatch Loss= 376.273529, Training Accuracy= 0.93750\n",
      "Iter 85760, Minibatch Loss= 303.007507, Training Accuracy= 0.93750\n",
      "Iter 87040, Minibatch Loss= 159.501282, Training Accuracy= 0.96875\n",
      "Iter 88320, Minibatch Loss= 365.846893, Training Accuracy= 0.95312\n",
      "Iter 89600, Minibatch Loss= 599.808228, Training Accuracy= 0.92969\n",
      "Iter 90880, Minibatch Loss= 385.416779, Training Accuracy= 0.96094\n",
      "Iter 92160, Minibatch Loss= 260.190521, Training Accuracy= 0.96875\n",
      "Iter 93440, Minibatch Loss= 1089.029541, Training Accuracy= 0.92188\n",
      "Iter 94720, Minibatch Loss= 290.068939, Training Accuracy= 0.96094\n",
      "Iter 96000, Minibatch Loss= 345.062439, Training Accuracy= 0.96094\n",
      "Iter 97280, Minibatch Loss= 339.478180, Training Accuracy= 0.95312\n",
      "Iter 98560, Minibatch Loss= 700.674316, Training Accuracy= 0.92969\n",
      "Iter 99840, Minibatch Loss= 164.699173, Training Accuracy= 0.98438\n",
      "Iter 101120, Minibatch Loss= 244.797974, Training Accuracy= 0.96094\n",
      "Iter 102400, Minibatch Loss= 482.016968, Training Accuracy= 0.92188\n",
      "Iter 103680, Minibatch Loss= 512.187134, Training Accuracy= 0.95312\n",
      "Iter 104960, Minibatch Loss= 295.700348, Training Accuracy= 0.95312\n",
      "Iter 106240, Minibatch Loss= 60.234833, Training Accuracy= 0.98438\n",
      "Iter 107520, Minibatch Loss= 293.286987, Training Accuracy= 0.96094\n",
      "Iter 108800, Minibatch Loss= 183.643127, Training Accuracy= 0.97656\n",
      "Iter 110080, Minibatch Loss= 236.122650, Training Accuracy= 0.96875\n",
      "Iter 111360, Minibatch Loss= 197.122040, Training Accuracy= 0.95312\n",
      "Iter 112640, Minibatch Loss= 409.014099, Training Accuracy= 0.97656\n",
      "Iter 113920, Minibatch Loss= 437.080872, Training Accuracy= 0.96875\n",
      "Iter 115200, Minibatch Loss= 187.100494, Training Accuracy= 0.96875\n",
      "Iter 116480, Minibatch Loss= 148.589661, Training Accuracy= 0.97656\n",
      "Iter 117760, Minibatch Loss= 74.630753, Training Accuracy= 0.97656\n",
      "Iter 119040, Minibatch Loss= 291.149017, Training Accuracy= 0.96094\n",
      "Iter 120320, Minibatch Loss= 372.126770, Training Accuracy= 0.95312\n",
      "Iter 121600, Minibatch Loss= 439.358398, Training Accuracy= 0.96094\n",
      "Iter 122880, Minibatch Loss= 71.265633, Training Accuracy= 0.98438\n",
      "Iter 124160, Minibatch Loss= 135.674652, Training Accuracy= 0.97656\n",
      "Iter 125440, Minibatch Loss= 89.286919, Training Accuracy= 0.99219\n",
      "Iter 126720, Minibatch Loss= 223.928986, Training Accuracy= 0.96875\n",
      "Iter 128000, Minibatch Loss= 248.203781, Training Accuracy= 0.96875\n",
      "Iter 129280, Minibatch Loss= 2.605209, Training Accuracy= 0.99219\n",
      "Iter 130560, Minibatch Loss= 136.050705, Training Accuracy= 0.96875\n",
      "Iter 131840, Minibatch Loss= 346.082611, Training Accuracy= 0.95312\n",
      "Iter 133120, Minibatch Loss= 109.899628, Training Accuracy= 0.97656\n",
      "Iter 134400, Minibatch Loss= 432.475159, Training Accuracy= 0.93750\n",
      "Iter 135680, Minibatch Loss= 50.028099, Training Accuracy= 0.98438\n",
      "Iter 136960, Minibatch Loss= 118.011459, Training Accuracy= 0.97656\n",
      "Iter 138240, Minibatch Loss= 188.183731, Training Accuracy= 0.95312\n",
      "Iter 139520, Minibatch Loss= 58.187874, Training Accuracy= 0.97656\n",
      "Iter 140800, Minibatch Loss= 378.380615, Training Accuracy= 0.95312\n",
      "Iter 142080, Minibatch Loss= 256.483307, Training Accuracy= 0.96875\n",
      "Iter 143360, Minibatch Loss= 317.853577, Training Accuracy= 0.96094\n",
      "Iter 144640, Minibatch Loss= 308.481689, Training Accuracy= 0.97656\n",
      "Iter 145920, Minibatch Loss= 109.072212, Training Accuracy= 0.98438\n",
      "Iter 147200, Minibatch Loss= 265.847595, Training Accuracy= 0.95312\n",
      "Iter 148480, Minibatch Loss= 116.070068, Training Accuracy= 0.97656\n",
      "Iter 149760, Minibatch Loss= 70.653900, Training Accuracy= 0.98438\n",
      "Iter 151040, Minibatch Loss= 131.939804, Training Accuracy= 0.97656\n",
      "Iter 152320, Minibatch Loss= 67.644684, Training Accuracy= 0.99219\n",
      "Iter 153600, Minibatch Loss= 168.752533, Training Accuracy= 0.97656\n",
      "Iter 154880, Minibatch Loss= 174.182892, Training Accuracy= 0.96094\n",
      "Iter 156160, Minibatch Loss= 208.599228, Training Accuracy= 0.97656\n",
      "Iter 157440, Minibatch Loss= 239.240524, Training Accuracy= 0.96875\n",
      "Iter 158720, Minibatch Loss= 20.792023, Training Accuracy= 0.99219\n",
      "Iter 160000, Minibatch Loss= 165.229050, Training Accuracy= 0.96875\n",
      "Iter 161280, Minibatch Loss= 301.820740, Training Accuracy= 0.95312\n",
      "Iter 162560, Minibatch Loss= 255.455719, Training Accuracy= 0.98438\n",
      "Iter 163840, Minibatch Loss= 145.456573, Training Accuracy= 0.97656\n",
      "Iter 165120, Minibatch Loss= 158.554474, Training Accuracy= 0.96094\n",
      "Iter 166400, Minibatch Loss= 231.369934, Training Accuracy= 0.98438\n",
      "Iter 167680, Minibatch Loss= 138.939880, Training Accuracy= 0.98438\n",
      "Iter 168960, Minibatch Loss= 64.920593, Training Accuracy= 0.97656\n",
      "Iter 170240, Minibatch Loss= 52.560402, Training Accuracy= 0.99219\n",
      "Iter 171520, Minibatch Loss= 137.102066, Training Accuracy= 0.97656\n",
      "Iter 172800, Minibatch Loss= 70.595505, Training Accuracy= 0.96094\n",
      "Iter 174080, Minibatch Loss= 67.896255, Training Accuracy= 0.96875\n",
      "Iter 175360, Minibatch Loss= 20.469818, Training Accuracy= 0.99219\n",
      "Iter 176640, Minibatch Loss= 21.509796, Training Accuracy= 0.98438\n",
      "Iter 177920, Minibatch Loss= 191.452560, Training Accuracy= 0.94531\n",
      "Iter 179200, Minibatch Loss= 150.058365, Training Accuracy= 0.97656\n",
      "Iter 180480, Minibatch Loss= 175.467834, Training Accuracy= 0.97656\n",
      "Iter 181760, Minibatch Loss= 14.378265, Training Accuracy= 0.98438\n",
      "Iter 183040, Minibatch Loss= 113.054230, Training Accuracy= 0.97656\n",
      "Iter 184320, Minibatch Loss= 0.000000, Training Accuracy= 1.00000\n",
      "Iter 185600, Minibatch Loss= 142.493607, Training Accuracy= 0.97656\n",
      "Iter 186880, Minibatch Loss= 140.337631, Training Accuracy= 0.98438\n",
      "Iter 188160, Minibatch Loss= 96.376328, Training Accuracy= 0.98438\n",
      "Iter 189440, Minibatch Loss= 44.333458, Training Accuracy= 0.98438\n",
      "Iter 190720, Minibatch Loss= 352.182007, Training Accuracy= 0.97656\n",
      "Iter 192000, Minibatch Loss= 79.072159, Training Accuracy= 0.98438\n",
      "Iter 193280, Minibatch Loss= 70.371330, Training Accuracy= 0.96094\n",
      "Iter 194560, Minibatch Loss= 225.675797, Training Accuracy= 0.96094\n",
      "Iter 195840, Minibatch Loss= 64.227882, Training Accuracy= 0.97656\n",
      "Iter 197120, Minibatch Loss= 55.685516, Training Accuracy= 0.97656\n",
      "Iter 198400, Minibatch Loss= 33.848473, Training Accuracy= 0.98438\n",
      "Iter 199680, Minibatch Loss= 246.109650, Training Accuracy= 0.96875\n",
      "Optimization Finished!\n",
      "Testing Accuracy: 0.980469\n"
     ]
    }
   ],
   "source": [
    "# Launch the graph\n",
    "with tf.Session() as sess:\n",
    "    sess.run(init)\n",
    "    step = 1\n",
    "    # Keep training until reach max iterations\n",
    "    while step * batch_size < training_iters:\n",
    "        batch_x, batch_y = mnist.train.next_batch(batch_size)\n",
    "        # Run optimization op (backprop)\n",
    "        sess.run(optimizer, feed_dict={x: batch_x, y: batch_y,\n",
    "                                       keep_prob: dropout})\n",
    "        if step % display_step == 0:\n",
    "            # Calculate batch loss and accuracy\n",
    "            loss, acc = sess.run([cost, accuracy], feed_dict={x: batch_x,\n",
    "                                                              y: batch_y,\n",
    "                                                              keep_prob: 1.})\n",
    "            print \"Iter \" + str(step*batch_size) + \", Minibatch Loss= \" + \\\n",
    "                  \"{:.6f}\".format(loss) + \", Training Accuracy= \" + \\\n",
    "                  \"{:.5f}\".format(acc)\n",
    "        step += 1\n",
    "    print \"Optimization Finished!\"\n",
    "\n",
    "    # Calculate accuracy for 256 mnist test images\n",
    "    print \"Testing Accuracy:\", \\\n",
    "        sess.run(accuracy, feed_dict={x: mnist.test.images[:256],\n",
    "                                      y: mnist.test.labels[:256],\n",
    "                                      keep_prob: 1.})"
   ]
  },
  {
   "cell_type": "code",
   "execution_count": null,
   "metadata": {
    "collapsed": true
   },
   "outputs": [],
   "source": []
  }
 ],
 "metadata": {
  "kernelspec": {
   "display_name": "Python 2",
   "language": "python",
   "name": "python2"
  },
  "language_info": {
   "codemirror_mode": {
    "name": "ipython",
    "version": 2
   },
   "file_extension": ".py",
   "mimetype": "text/x-python",
   "name": "python",
   "nbconvert_exporter": "python",
   "pygments_lexer": "ipython2",
   "version": "2.7.13"
  }
 },
 "nbformat": 4,
 "nbformat_minor": 0
}
